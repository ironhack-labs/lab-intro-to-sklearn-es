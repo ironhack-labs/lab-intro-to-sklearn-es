{
 "cells": [
  {
   "cell_type": "markdown",
   "metadata": {},
   "source": [
    "# Antes de empezar:\n",
    "Lee el archivo README.md <p>\n",
    "Comenta todo lo que puedas y utiliza los recursos del archivo README.md\n",
    "¡Feliz aprendizaje!"
   ]
  },
  {
   "cell_type": "code",
   "execution_count": 398,
   "metadata": {},
   "outputs": [],
   "source": [
    "# Import your libraries:\n",
    "import pandas as pd\n",
    "from sklearn.datasets import load_diabetes\n",
    "from sklearn.model_selection import train_test_split\n",
    "from sklearn.linear_model import LinearRegression\n",
    "import numpy as np\n",
    "import statsmodels.api as sm\n",
    "from sklearn.metrics import mean_squared_error, r2_score"
   ]
  },
  {
   "cell_type": "markdown",
   "metadata": {},
   "source": [
    "# Reto 1 - Explorar los conjuntos de datos de Scikit-Learn\n",
    "\n",
    "Antes de empezar a trabajar con nuestros propios conjuntos de datos, exploremos primero los conjuntos de datos incluidos en esta biblioteca de Python. Estos conjuntos de datos se han limpiado y formateado para su uso en algoritmos de ML."
   ]
  },
  {
   "cell_type": "markdown",
   "metadata": {},
   "source": [
    "En primer lugar, cargaremos el conjunto de datos de la diabetes. Hazlo en la celda de abajo importando los conjuntos de datos y luego cargando el conjunto de datos en la `diabetes` utilizando la función `load_diabetes()`."
   ]
  },
  {
   "cell_type": "code",
   "execution_count": 402,
   "metadata": {},
   "outputs": [
    {
     "name": "stdout",
     "output_type": "stream",
     "text": [
      "(442, 10)\n",
      "(442,)\n"
     ]
    },
    {
     "data": {
      "text/plain": [
       "['age', 'sex', 'bmi', 'bp', 's1', 's2', 's3', 's4', 's5', 's6']"
      ]
     },
     "execution_count": 402,
     "metadata": {},
     "output_type": "execute_result"
    }
   ],
   "source": [
    "db = load_diabetes()\n",
    "\n",
    "#Check the data format.\n",
    "X, y = db.data, db.target\n",
    "\n",
    "print (X.shape)\n",
    "print (y.shape)\n",
    "\n",
    "features = db.feature_names  # Feature names\n",
    "features"
   ]
  },
  {
   "cell_type": "markdown",
   "metadata": {},
   "source": [
    "Vamos a explorar esta variable observando los diferentes atributos. Para ello, mira las `keys()` de esta variable."
   ]
  },
  {
   "cell_type": "code",
   "execution_count": 405,
   "metadata": {},
   "outputs": [
    {
     "data": {
      "text/plain": [
       "dict_keys(['data', 'target', 'frame', 'DESCR', 'feature_names', 'data_filename', 'target_filename', 'data_module'])"
      ]
     },
     "execution_count": 405,
     "metadata": {},
     "output_type": "execute_result"
    }
   ],
   "source": [
    "db.keys()"
   ]
  },
  {
   "cell_type": "markdown",
   "metadata": {},
   "source": [
    "El siguiente paso es leer la descripción del conjunto de datos. Imprima la descripción en la celda siguiente utilizando el atributo `DESCR` de la variable `diabetes`"
   ]
  },
  {
   "cell_type": "code",
   "execution_count": 408,
   "metadata": {},
   "outputs": [
    {
     "name": "stdout",
     "output_type": "stream",
     "text": [
      ".. _diabetes_dataset:\n",
      "\n",
      "Diabetes dataset\n",
      "----------------\n",
      "\n",
      "Ten baseline variables, age, sex, body mass index, average blood\n",
      "pressure, and six blood serum measurements were obtained for each of n =\n",
      "442 diabetes patients, as well as the response of interest, a\n",
      "quantitative measure of disease progression one year after baseline.\n",
      "\n",
      "**Data Set Characteristics:**\n",
      "\n",
      ":Number of Instances: 442\n",
      "\n",
      ":Number of Attributes: First 10 columns are numeric predictive values\n",
      "\n",
      ":Target: Column 11 is a quantitative measure of disease progression one year after baseline\n",
      "\n",
      ":Attribute Information:\n",
      "    - age     age in years\n",
      "    - sex\n",
      "    - bmi     body mass index\n",
      "    - bp      average blood pressure\n",
      "    - s1      tc, total serum cholesterol\n",
      "    - s2      ldl, low-density lipoproteins\n",
      "    - s3      hdl, high-density lipoproteins\n",
      "    - s4      tch, total cholesterol / HDL\n",
      "    - s5      ltg, possibly log of serum triglycerides level\n",
      "    - s6      glu, blood sugar level\n",
      "\n",
      "Note: Each of these 10 feature variables have been mean centered and scaled by the standard deviation times the square root of `n_samples` (i.e. the sum of squares of each column totals 1).\n",
      "\n",
      "Source URL:\n",
      "https://www4.stat.ncsu.edu/~boos/var.select/diabetes.html\n",
      "\n",
      "For more information see:\n",
      "Bradley Efron, Trevor Hastie, Iain Johnstone and Robert Tibshirani (2004) \"Least Angle Regression,\" Annals of Statistics (with discussion), 407-499.\n",
      "(https://web.stanford.edu/~hastie/Papers/LARS/LeastAngle_2002.pdf)\n",
      "\n"
     ]
    }
   ],
   "source": [
    "print(db.DESCR)"
   ]
  },
  {
   "cell_type": "markdown",
   "metadata": {},
   "source": [
    "¿Cuáles son las variables de este conjunto de datos según la descripción? Enuméralas en la celda markdown siguiente"
   ]
  },
  {
   "cell_type": "markdown",
   "metadata": {},
   "source": [
    "#### Introduzca aquí su respuesta:\n",
    "\n",
    "    - age     age in years\r\n",
    "    - sex\r\n",
    "    - bmi     body mass index\r\n",
    "    - bp      average blood pressure\r\n",
    "    - s1      tc, total serum cholesterol\r\n",
    "    - s2      ldl, low-density lipoproteins\r\n",
    "    - s3      hdl, high-density lipoproteins\r\n",
    "    - s4      tch, total cholesterol / HDL\r\n",
    "    - s5      ltg, possibly log of serum triglycerides level\r\n",
    "    - s6      glu, blood sur levels6"
   ]
  },
  {
   "cell_type": "markdown",
   "metadata": {},
   "source": [
    "Ahora explora los datos. Scikit-learn normalmente toma arrays numpy 2D como entrada (aunque también se aceptan dataframes pandas). En la celda de abajo encuentra la forma del array numpy contenido en la parte de datos de la variable diabetes."
   ]
  },
  {
   "cell_type": "code",
   "execution_count": 413,
   "metadata": {},
   "outputs": [
    {
     "name": "stdout",
     "output_type": "stream",
     "text": [
      "(442, 10)\n",
      "(442,)\n"
     ]
    }
   ],
   "source": [
    "print (X.shape)\n",
    "print (y.shape)"
   ]
  },
  {
   "cell_type": "markdown",
   "metadata": {},
   "source": [
    "# Reto 2 - Realizar aprendizaje supervisado en el conjunto de datos"
   ]
  },
  {
   "cell_type": "markdown",
   "metadata": {},
   "source": [
    "#### Los datos ya se han dividido en variables predictoras y de respuesta. La variable de respuesta se encuentra en la parte «objetivo» de la variable. \n",
    "\n",
    "Dada esta información, vamos a aplicar lo que hemos aprendido previamente sobre regresión lineal y aplicar el algoritmo al conjunto de datos de la diabetes. En la celda de abajo, importa la clase de regresión lineal de sklearn. "
   ]
  },
  {
   "cell_type": "code",
   "execution_count": 417,
   "metadata": {},
   "outputs": [
    {
     "name": "stdout",
     "output_type": "stream",
     "text": [
      "Train and test sizes of X: (397, 10) (45, 10)\n",
      "Train and test sizes of y: (397,) (45,)\n"
     ]
    }
   ],
   "source": [
    "X_train, X_test, y_train, y_test = train_test_split(X, y, test_size=0.1)\n",
    "\n",
    "print('Train and test sizes of X: {} {}'.format(X_train.shape, X_test.shape))\n",
    "print('Train and test sizes of y: {} {}'.format(y_train.shape, y_test.shape))"
   ]
  },
  {
   "cell_type": "markdown",
   "metadata": {},
   "source": [
    "Inicializar el modelo en la variable `diabetes_model`."
   ]
  },
  {
   "cell_type": "code",
   "execution_count": 420,
   "metadata": {},
   "outputs": [],
   "source": [
    "diabetes_model = LinearRegression() # Create the Linear Regression estimator"
   ]
  },
  {
   "cell_type": "markdown",
   "metadata": {},
   "source": [
    "En la celda de abajo, ajusta el modelo e imprime el intercepto y los coeficientes del modelo."
   ]
  },
  {
   "cell_type": "code",
   "execution_count": 423,
   "metadata": {},
   "outputs": [
    {
     "name": "stdout",
     "output_type": "stream",
     "text": [
      "age     28.145261\n",
      "s6      67.852086\n",
      "s3     148.622302\n",
      "sex    214.110095\n",
      "s4     227.601504\n",
      "bp     336.701559\n",
      "s2     483.281408\n",
      "bmi    497.209209\n",
      "s5     762.276764\n",
      "s1     833.483234\n",
      "dtype: float64\n"
     ]
    },
    {
     "data": {
      "text/plain": [
       "<Axes: title={'center': 'Model Coefficients'}>"
      ]
     },
     "execution_count": 423,
     "metadata": {},
     "output_type": "execute_result"
    },
    {
     "data": {
      "image/png": "[encoded data removed]",
      "text/plain": [
       "<Figure size 640x480 with 1 Axes>"
      ]
     },
     "metadata": {},
     "output_type": "display_data"
    }
   ],
   "source": [
    "diabetes_model.fit(X_train, y_train) # Perform the fitting\n",
    "\n",
    "# Regrerssion coefs\n",
    "coefs_diabetes_model = pd.Series(np.abs(diabetes_model.coef_), features).sort_values()\n",
    "print(coefs_diabetes_model)\n",
    "coefs_diabetes_model.plot(kind='bar', title='Model Coefficients')"
   ]
  },
  {
   "attachments": {
    "image.png": {
     "image/png": "[encoded data removed]"
    }
   },
   "cell_type": "markdown",
   "metadata": {},
   "source": [
    "# Reto bonus 1 - Realizar una prueba de hipótesis sobre el modelo\n",
    "\n",
    "Una vez que hemos generado un modelo lineal, podemos probar cada coeficiente utilizando una prueba t para ver si el intervalo de confianza de la variable contiene cero. También podemos realizar una prueba F global para comprobar si al menos un coeficiente es significativamente distinto de cero. \n",
    "\n",
    "Consulte el recurso en este [enlace](https://onlinecourses.science.psu.edu/stat501/node/297/) para obtener más detalles y realice las pruebas t para el modelo anterior. Además, interprete los resultados y enumere los coeficientes que son significativamente diferentes de cero.\n",
    "\n",
    "\n",
    "Sugerencia: utilice el paquete statsmodels.\n",
    "\n",
    "Su resultado debería ser similar al siguiente\n",
    "\n",
    "![image.png](attachment:image.png)"
   ]
  },
  {
   "cell_type": "code",
   "execution_count": 426,
   "metadata": {},
   "outputs": [
    {
     "name": "stdout",
     "output_type": "stream",
     "text": [
      "                            OLS Regression Results                            \n",
      "==============================================================================\n",
      "Dep. Variable:                      y   R-squared:                       0.518\n",
      "Model:                            OLS   Adj. R-squared:                  0.507\n",
      "Method:                 Least Squares   F-statistic:                     46.27\n",
      "Date:                Thu, 31 Oct 2024   Prob (F-statistic):           3.83e-62\n",
      "Time:                        21:28:55   Log-Likelihood:                -2386.0\n",
      "No. Observations:                 442   AIC:                             4794.\n",
      "Df Residuals:                     431   BIC:                             4839.\n",
      "Df Model:                          10                                         \n",
      "Covariance Type:            nonrobust                                         \n",
      "==============================================================================\n",
      "                 coef    std err          t      P>|t|      [0.025      0.975]\n",
      "------------------------------------------------------------------------------\n",
      "const        152.1335      2.576     59.061      0.000     147.071     157.196\n",
      "age          -10.0099     59.749     -0.168      0.867    -127.446     107.426\n",
      "sex         -239.8156     61.222     -3.917      0.000    -360.147    -119.484\n",
      "bmi          519.8459     66.533      7.813      0.000     389.076     650.616\n",
      "bp           324.3846     65.422      4.958      0.000     195.799     452.970\n",
      "s1          -792.1756    416.680     -1.901      0.058   -1611.153      26.802\n",
      "s2           476.7390    339.030      1.406      0.160    -189.620    1143.098\n",
      "s3           101.0433    212.531      0.475      0.635    -316.684     518.770\n",
      "s4           177.0632    161.476      1.097      0.273    -140.315     494.441\n",
      "s5           751.2737    171.900      4.370      0.000     413.407    1089.140\n",
      "s6            67.6267     65.984      1.025      0.306     -62.064     197.318\n",
      "==============================================================================\n",
      "Omnibus:                        1.506   Durbin-Watson:                   2.029\n",
      "Prob(Omnibus):                  0.471   Jarque-Bera (JB):                1.404\n",
      "Skew:                           0.017   Prob(JB):                        0.496\n",
      "Kurtosis:                       2.726   Cond. No.                         227.\n",
      "==============================================================================\n",
      "\n",
      "Notes:\n",
      "[1] Standard Errors assume that the covariance matrix of the errors is correctly specified.\n"
     ]
    }
   ],
   "source": [
    "############################\n",
    "##########OLS###############\n",
    "############################\n",
    "import statsmodels.api as sm\n",
    "\n",
    "# Convert to a df\n",
    "X_df = pd.DataFrame(X, columns=db.feature_names)\n",
    "\n",
    "# Add a constant \n",
    "X_df = sm.add_constant(X_df)\n",
    "\n",
    "# Fit the OLS \n",
    "model = sm.OLS(y, X_df).fit()\n",
    "\n",
    "print(model.summary())"
   ]
  },
  {
   "cell_type": "markdown",
   "metadata": {},
   "source": [
    "# Reto 3 - Realizar aprendizaje supervisado en un marco de datos Pandas"
   ]
  },
  {
   "cell_type": "markdown",
   "metadata": {},
   "source": [
    "Ahora que hemos visto los datos que han sido formateados para scikit-learn, vamos a ver los datos que tendremos que formatear nosotros mismos.\n",
    "\n",
    "En la siguiente celda, cargue el archivo `auto-mpg.csv` incluido en esta carpeta y asígnalo a una variable llamada `auto`."
   ]
  },
  {
   "cell_type": "code",
   "execution_count": 430,
   "metadata": {},
   "outputs": [],
   "source": [
    "import pandas as pd\n",
    "auto = pd.read_csv(r'C:\\Users\\ievav\\OneDrive\\Documents\\Ironhack\\Assignments\\lab-intro-to-sklearn-es/auto-mpg.csv')"
   ]
  },
  {
   "cell_type": "markdown",
   "metadata": {},
   "source": [
    "Mira las 5 primeras filas usando la función `head()`:"
   ]
  },
  {
   "cell_type": "code",
   "execution_count": 433,
   "metadata": {},
   "outputs": [
    {
     "data": {
      "text/html": [
       "<div>\n",
       "<style scoped>\n",
       "    .dataframe tbody tr th:only-of-type {\n",
       "        vertical-align: middle;\n",
       "    }\n",
       "\n",
       "    .dataframe tbody tr th {\n",
       "        vertical-align: top;\n",
       "    }\n",
       "\n",
       "    .dataframe thead th {\n",
       "        text-align: right;\n",
       "    }\n",
       "</style>\n",
       "<table border=\"1\" class=\"dataframe\">\n",
       "  <thead>\n",
       "    <tr style=\"text-align: right;\">\n",
       "      <th></th>\n",
       "      <th>mpg</th>\n",
       "      <th>cylinders</th>\n",
       "      <th>displacement</th>\n",
       "      <th>horse_power</th>\n",
       "      <th>weight</th>\n",
       "      <th>acceleration</th>\n",
       "      <th>model_year</th>\n",
       "      <th>car_name</th>\n",
       "    </tr>\n",
       "  </thead>\n",
       "  <tbody>\n",
       "    <tr>\n",
       "      <th>0</th>\n",
       "      <td>18.0</td>\n",
       "      <td>8</td>\n",
       "      <td>307.0</td>\n",
       "      <td>130.0</td>\n",
       "      <td>3504</td>\n",
       "      <td>12.0</td>\n",
       "      <td>70</td>\n",
       "      <td>\\t\"chevrolet chevelle malibu\"</td>\n",
       "    </tr>\n",
       "    <tr>\n",
       "      <th>1</th>\n",
       "      <td>15.0</td>\n",
       "      <td>8</td>\n",
       "      <td>350.0</td>\n",
       "      <td>165.0</td>\n",
       "      <td>3693</td>\n",
       "      <td>11.5</td>\n",
       "      <td>70</td>\n",
       "      <td>\\t\"buick skylark 320\"</td>\n",
       "    </tr>\n",
       "    <tr>\n",
       "      <th>2</th>\n",
       "      <td>18.0</td>\n",
       "      <td>8</td>\n",
       "      <td>318.0</td>\n",
       "      <td>150.0</td>\n",
       "      <td>3436</td>\n",
       "      <td>11.0</td>\n",
       "      <td>70</td>\n",
       "      <td>\\t\"plymouth satellite\"</td>\n",
       "    </tr>\n",
       "    <tr>\n",
       "      <th>3</th>\n",
       "      <td>16.0</td>\n",
       "      <td>8</td>\n",
       "      <td>304.0</td>\n",
       "      <td>150.0</td>\n",
       "      <td>3433</td>\n",
       "      <td>12.0</td>\n",
       "      <td>70</td>\n",
       "      <td>\\t\"amc rebel sst\"</td>\n",
       "    </tr>\n",
       "    <tr>\n",
       "      <th>4</th>\n",
       "      <td>17.0</td>\n",
       "      <td>8</td>\n",
       "      <td>302.0</td>\n",
       "      <td>140.0</td>\n",
       "      <td>3449</td>\n",
       "      <td>10.5</td>\n",
       "      <td>70</td>\n",
       "      <td>\\t\"ford torino\"</td>\n",
       "    </tr>\n",
       "  </tbody>\n",
       "</table>\n",
       "</div>"
      ],
      "text/plain": [
       "    mpg  cylinders  displacement  horse_power  weight  acceleration  \\\n",
       "0  18.0          8         307.0        130.0    3504          12.0   \n",
       "1  15.0          8         350.0        165.0    3693          11.5   \n",
       "2  18.0          8         318.0        150.0    3436          11.0   \n",
       "3  16.0          8         304.0        150.0    3433          12.0   \n",
       "4  17.0          8         302.0        140.0    3449          10.5   \n",
       "\n",
       "   model_year                       car_name  \n",
       "0          70  \\t\"chevrolet chevelle malibu\"  \n",
       "1          70          \\t\"buick skylark 320\"  \n",
       "2          70         \\t\"plymouth satellite\"  \n",
       "3          70              \\t\"amc rebel sst\"  \n",
       "4          70                \\t\"ford torino\"  "
      ]
     },
     "execution_count": 433,
     "metadata": {},
     "output_type": "execute_result"
    }
   ],
   "source": [
    "auto.head()"
   ]
  },
  {
   "cell_type": "markdown",
   "metadata": {},
   "source": [
    "Evalúa los datos para asegurar que todas las columnas numéricas son detectadas correctamente como tales por pandas. Si una columna se clasifica erróneamente como objeto, cámbiala a numérica."
   ]
  },
  {
   "cell_type": "code",
   "execution_count": 436,
   "metadata": {},
   "outputs": [
    {
     "name": "stdout",
     "output_type": "stream",
     "text": [
      "mpg             float64\n",
      "cylinders         int64\n",
      "displacement    float64\n",
      "horse_power     float64\n",
      "weight            int64\n",
      "acceleration    float64\n",
      "model_year        int64\n",
      "car_name         object\n",
      "dtype: object\n"
     ]
    }
   ],
   "source": [
    "print(auto.dtypes)\n",
    "#auto['car_name'] = pd.to_numeric(auto['car_name'], errors='coerce')\n",
    "#print(auto.dtypes)"
   ]
  },
  {
   "cell_type": "markdown",
   "metadata": {},
   "source": [
    "¿Cuál es el año del modelo más reciente y el año del modelo más antiguo?"
   ]
  },
  {
   "cell_type": "code",
   "execution_count": 439,
   "metadata": {},
   "outputs": [
    {
     "name": "stdout",
     "output_type": "stream",
     "text": [
      "82 70\n"
     ]
    }
   ],
   "source": [
    "newest_year = auto['model_year'].max()\n",
    "oldest_year = auto['model_year'].min()\n",
    "print(newest_year, oldest_year)"
   ]
  },
  {
   "cell_type": "markdown",
   "metadata": {},
   "source": [
    "Comprueba si faltan valores en el conjunto de datos y elimina todas las filas que contengan al menos un valor omitido."
   ]
  },
  {
   "cell_type": "code",
   "execution_count": 442,
   "metadata": {},
   "outputs": [
    {
     "name": "stdout",
     "output_type": "stream",
     "text": [
      "{'mpg': 0, 'cylinders': 0, 'displacement': 0, 'horse_power': 6, 'weight': 0, 'acceleration': 0, 'model_year': 0, 'car_name': 0}\n"
     ]
    }
   ],
   "source": [
    "nan_counts = {}\n",
    "\n",
    "# Iterate over each column in the DataFrame\n",
    "for column in auto:\n",
    "    nan_count = auto[column].isna().sum()  # Count NaNs in the current column\n",
    "    nan_counts[column] = nan_count  # Store the count in the dictionary\n",
    "\n",
    "print(nan_counts)"
   ]
  },
  {
   "cell_type": "code",
   "execution_count": 444,
   "metadata": {},
   "outputs": [
    {
     "name": "stdout",
     "output_type": "stream",
     "text": [
      "mpg             0\n",
      "cylinders       0\n",
      "displacement    0\n",
      "horse_power     6\n",
      "weight          0\n",
      "acceleration    0\n",
      "model_year      0\n",
      "car_name        0\n",
      "dtype: int64\n"
     ]
    },
    {
     "data": {
      "text/html": [
       "<div>\n",
       "<style scoped>\n",
       "    .dataframe tbody tr th:only-of-type {\n",
       "        vertical-align: middle;\n",
       "    }\n",
       "\n",
       "    .dataframe tbody tr th {\n",
       "        vertical-align: top;\n",
       "    }\n",
       "\n",
       "    .dataframe thead th {\n",
       "        text-align: right;\n",
       "    }\n",
       "</style>\n",
       "<table border=\"1\" class=\"dataframe\">\n",
       "  <thead>\n",
       "    <tr style=\"text-align: right;\">\n",
       "      <th></th>\n",
       "      <th>mpg</th>\n",
       "      <th>cylinders</th>\n",
       "      <th>displacement</th>\n",
       "      <th>horse_power</th>\n",
       "      <th>weight</th>\n",
       "      <th>acceleration</th>\n",
       "      <th>model_year</th>\n",
       "      <th>car_name</th>\n",
       "    </tr>\n",
       "  </thead>\n",
       "  <tbody>\n",
       "    <tr>\n",
       "      <th>0</th>\n",
       "      <td>18.0</td>\n",
       "      <td>8</td>\n",
       "      <td>307.0</td>\n",
       "      <td>130.0</td>\n",
       "      <td>3504</td>\n",
       "      <td>12.0</td>\n",
       "      <td>70</td>\n",
       "      <td>\\t\"chevrolet chevelle malibu\"</td>\n",
       "    </tr>\n",
       "    <tr>\n",
       "      <th>1</th>\n",
       "      <td>15.0</td>\n",
       "      <td>8</td>\n",
       "      <td>350.0</td>\n",
       "      <td>165.0</td>\n",
       "      <td>3693</td>\n",
       "      <td>11.5</td>\n",
       "      <td>70</td>\n",
       "      <td>\\t\"buick skylark 320\"</td>\n",
       "    </tr>\n",
       "    <tr>\n",
       "      <th>2</th>\n",
       "      <td>18.0</td>\n",
       "      <td>8</td>\n",
       "      <td>318.0</td>\n",
       "      <td>150.0</td>\n",
       "      <td>3436</td>\n",
       "      <td>11.0</td>\n",
       "      <td>70</td>\n",
       "      <td>\\t\"plymouth satellite\"</td>\n",
       "    </tr>\n",
       "    <tr>\n",
       "      <th>3</th>\n",
       "      <td>16.0</td>\n",
       "      <td>8</td>\n",
       "      <td>304.0</td>\n",
       "      <td>150.0</td>\n",
       "      <td>3433</td>\n",
       "      <td>12.0</td>\n",
       "      <td>70</td>\n",
       "      <td>\\t\"amc rebel sst\"</td>\n",
       "    </tr>\n",
       "    <tr>\n",
       "      <th>4</th>\n",
       "      <td>17.0</td>\n",
       "      <td>8</td>\n",
       "      <td>302.0</td>\n",
       "      <td>140.0</td>\n",
       "      <td>3449</td>\n",
       "      <td>10.5</td>\n",
       "      <td>70</td>\n",
       "      <td>\\t\"ford torino\"</td>\n",
       "    </tr>\n",
       "    <tr>\n",
       "      <th>...</th>\n",
       "      <td>...</td>\n",
       "      <td>...</td>\n",
       "      <td>...</td>\n",
       "      <td>...</td>\n",
       "      <td>...</td>\n",
       "      <td>...</td>\n",
       "      <td>...</td>\n",
       "      <td>...</td>\n",
       "    </tr>\n",
       "    <tr>\n",
       "      <th>393</th>\n",
       "      <td>27.0</td>\n",
       "      <td>4</td>\n",
       "      <td>140.0</td>\n",
       "      <td>86.0</td>\n",
       "      <td>2790</td>\n",
       "      <td>15.6</td>\n",
       "      <td>82</td>\n",
       "      <td>\\t\"ford mustang gl\"</td>\n",
       "    </tr>\n",
       "    <tr>\n",
       "      <th>394</th>\n",
       "      <td>44.0</td>\n",
       "      <td>4</td>\n",
       "      <td>97.0</td>\n",
       "      <td>52.0</td>\n",
       "      <td>2130</td>\n",
       "      <td>24.6</td>\n",
       "      <td>82</td>\n",
       "      <td>\\t\"vw pickup\"</td>\n",
       "    </tr>\n",
       "    <tr>\n",
       "      <th>395</th>\n",
       "      <td>32.0</td>\n",
       "      <td>4</td>\n",
       "      <td>135.0</td>\n",
       "      <td>84.0</td>\n",
       "      <td>2295</td>\n",
       "      <td>11.6</td>\n",
       "      <td>82</td>\n",
       "      <td>\\t\"dodge rampage\"</td>\n",
       "    </tr>\n",
       "    <tr>\n",
       "      <th>396</th>\n",
       "      <td>28.0</td>\n",
       "      <td>4</td>\n",
       "      <td>120.0</td>\n",
       "      <td>79.0</td>\n",
       "      <td>2625</td>\n",
       "      <td>18.6</td>\n",
       "      <td>82</td>\n",
       "      <td>\\t\"ford ranger\"</td>\n",
       "    </tr>\n",
       "    <tr>\n",
       "      <th>397</th>\n",
       "      <td>31.0</td>\n",
       "      <td>4</td>\n",
       "      <td>119.0</td>\n",
       "      <td>82.0</td>\n",
       "      <td>2720</td>\n",
       "      <td>19.4</td>\n",
       "      <td>82</td>\n",
       "      <td>\\t\"chevy s-10\"</td>\n",
       "    </tr>\n",
       "  </tbody>\n",
       "</table>\n",
       "<p>398 rows × 8 columns</p>\n",
       "</div>"
      ],
      "text/plain": [
       "      mpg  cylinders  displacement  horse_power  weight  acceleration  \\\n",
       "0    18.0          8         307.0        130.0    3504          12.0   \n",
       "1    15.0          8         350.0        165.0    3693          11.5   \n",
       "2    18.0          8         318.0        150.0    3436          11.0   \n",
       "3    16.0          8         304.0        150.0    3433          12.0   \n",
       "4    17.0          8         302.0        140.0    3449          10.5   \n",
       "..    ...        ...           ...          ...     ...           ...   \n",
       "393  27.0          4         140.0         86.0    2790          15.6   \n",
       "394  44.0          4          97.0         52.0    2130          24.6   \n",
       "395  32.0          4         135.0         84.0    2295          11.6   \n",
       "396  28.0          4         120.0         79.0    2625          18.6   \n",
       "397  31.0          4         119.0         82.0    2720          19.4   \n",
       "\n",
       "     model_year                       car_name  \n",
       "0            70  \\t\"chevrolet chevelle malibu\"  \n",
       "1            70          \\t\"buick skylark 320\"  \n",
       "2            70         \\t\"plymouth satellite\"  \n",
       "3            70              \\t\"amc rebel sst\"  \n",
       "4            70                \\t\"ford torino\"  \n",
       "..          ...                            ...  \n",
       "393          82            \\t\"ford mustang gl\"  \n",
       "394          82                  \\t\"vw pickup\"  \n",
       "395          82              \\t\"dodge rampage\"  \n",
       "396          82                \\t\"ford ranger\"  \n",
       "397          82                 \\t\"chevy s-10\"  \n",
       "\n",
       "[398 rows x 8 columns]"
      ]
     },
     "execution_count": 444,
     "metadata": {},
     "output_type": "execute_result"
    }
   ],
   "source": [
    "auto.dropna(axis=0, how=\"any\", inplace=False)\n",
    "\n",
    "\n",
    "print(auto.isna().sum())  # Check for remaining NaN values\n",
    "auto"
   ]
  },
  {
   "cell_type": "markdown",
   "metadata": {},
   "source": [
    "Encuentra la tabla de frecuencias para la columna `cylinders` utilizando la función `value_counts()`. ¿Cuántos valores posibles de cilindros hay?"
   ]
  },
  {
   "cell_type": "code",
   "execution_count": 447,
   "metadata": {},
   "outputs": [
    {
     "name": "stdout",
     "output_type": "stream",
     "text": [
      "cylinders\n",
      "4    204\n",
      "8    103\n",
      "6     84\n",
      "3      4\n",
      "5      3\n",
      "Name: count, dtype: int64\n"
     ]
    }
   ],
   "source": [
    "cylinder_counts = auto['cylinders'].value_counts()\n",
    "print(cylinder_counts)"
   ]
  },
  {
   "cell_type": "markdown",
   "metadata": {},
   "source": [
    "Queremos generar un modelo de regresión lineal que prediga el mpg. Para ello, en primer lugar, elimina la columna «car_name», ya que no contiene ningún dato cuantitativo. A continuación, separa el marco de datos en variables predictoras y de respuesta. Sepáralos en datos de train y de test, con el 80% de los datos en el conjunto de entrenamiento y el resto en el conjunto de prueba. \n",
    "\n",
    "Asigna los datos de entrenamiento del predictor y de la respuesta a `X_train` y `y_train` respectivamente. Del mismo modo, asigna los datos de prueba del predictor y de la respuesta a `X_test` y `y_test`."
   ]
  },
  {
   "cell_type": "code",
   "execution_count": 450,
   "metadata": {},
   "outputs": [
    {
     "name": "stdout",
     "output_type": "stream",
     "text": [
      "Index(['mpg', 'cylinders', 'displacement', 'horse_power', 'weight',\n",
      "       'acceleration', 'model_year', 'car_name'],\n",
      "      dtype='object')\n",
      "<class 'pandas.core.frame.DataFrame'>\n",
      "RangeIndex: 398 entries, 0 to 397\n",
      "Data columns (total 8 columns):\n",
      " #   Column        Non-Null Count  Dtype  \n",
      "---  ------        --------------  -----  \n",
      " 0   mpg           398 non-null    float64\n",
      " 1   cylinders     398 non-null    int64  \n",
      " 2   displacement  398 non-null    float64\n",
      " 3   horse_power   392 non-null    float64\n",
      " 4   weight        398 non-null    int64  \n",
      " 5   acceleration  398 non-null    float64\n",
      " 6   model_year    398 non-null    int64  \n",
      " 7   car_name      398 non-null    object \n",
      "dtypes: float64(4), int64(3), object(1)\n",
      "memory usage: 25.0+ KB\n",
      "None\n",
      "(398, 8)\n"
     ]
    },
    {
     "data": {
      "text/html": [
       "<div>\n",
       "<style scoped>\n",
       "    .dataframe tbody tr th:only-of-type {\n",
       "        vertical-align: middle;\n",
       "    }\n",
       "\n",
       "    .dataframe tbody tr th {\n",
       "        vertical-align: top;\n",
       "    }\n",
       "\n",
       "    .dataframe thead th {\n",
       "        text-align: right;\n",
       "    }\n",
       "</style>\n",
       "<table border=\"1\" class=\"dataframe\">\n",
       "  <thead>\n",
       "    <tr style=\"text-align: right;\">\n",
       "      <th></th>\n",
       "      <th>mpg</th>\n",
       "      <th>cylinders</th>\n",
       "      <th>displacement</th>\n",
       "      <th>horse_power</th>\n",
       "      <th>weight</th>\n",
       "      <th>acceleration</th>\n",
       "      <th>model_year</th>\n",
       "      <th>car_name</th>\n",
       "    </tr>\n",
       "  </thead>\n",
       "  <tbody>\n",
       "    <tr>\n",
       "      <th>0</th>\n",
       "      <td>18.0</td>\n",
       "      <td>8</td>\n",
       "      <td>307.0</td>\n",
       "      <td>130.0</td>\n",
       "      <td>3504</td>\n",
       "      <td>12.0</td>\n",
       "      <td>70</td>\n",
       "      <td>\\t\"chevrolet chevelle malibu\"</td>\n",
       "    </tr>\n",
       "    <tr>\n",
       "      <th>1</th>\n",
       "      <td>15.0</td>\n",
       "      <td>8</td>\n",
       "      <td>350.0</td>\n",
       "      <td>165.0</td>\n",
       "      <td>3693</td>\n",
       "      <td>11.5</td>\n",
       "      <td>70</td>\n",
       "      <td>\\t\"buick skylark 320\"</td>\n",
       "    </tr>\n",
       "    <tr>\n",
       "      <th>2</th>\n",
       "      <td>18.0</td>\n",
       "      <td>8</td>\n",
       "      <td>318.0</td>\n",
       "      <td>150.0</td>\n",
       "      <td>3436</td>\n",
       "      <td>11.0</td>\n",
       "      <td>70</td>\n",
       "      <td>\\t\"plymouth satellite\"</td>\n",
       "    </tr>\n",
       "    <tr>\n",
       "      <th>3</th>\n",
       "      <td>16.0</td>\n",
       "      <td>8</td>\n",
       "      <td>304.0</td>\n",
       "      <td>150.0</td>\n",
       "      <td>3433</td>\n",
       "      <td>12.0</td>\n",
       "      <td>70</td>\n",
       "      <td>\\t\"amc rebel sst\"</td>\n",
       "    </tr>\n",
       "    <tr>\n",
       "      <th>4</th>\n",
       "      <td>17.0</td>\n",
       "      <td>8</td>\n",
       "      <td>302.0</td>\n",
       "      <td>140.0</td>\n",
       "      <td>3449</td>\n",
       "      <td>10.5</td>\n",
       "      <td>70</td>\n",
       "      <td>\\t\"ford torino\"</td>\n",
       "    </tr>\n",
       "    <tr>\n",
       "      <th>...</th>\n",
       "      <td>...</td>\n",
       "      <td>...</td>\n",
       "      <td>...</td>\n",
       "      <td>...</td>\n",
       "      <td>...</td>\n",
       "      <td>...</td>\n",
       "      <td>...</td>\n",
       "      <td>...</td>\n",
       "    </tr>\n",
       "    <tr>\n",
       "      <th>393</th>\n",
       "      <td>27.0</td>\n",
       "      <td>4</td>\n",
       "      <td>140.0</td>\n",
       "      <td>86.0</td>\n",
       "      <td>2790</td>\n",
       "      <td>15.6</td>\n",
       "      <td>82</td>\n",
       "      <td>\\t\"ford mustang gl\"</td>\n",
       "    </tr>\n",
       "    <tr>\n",
       "      <th>394</th>\n",
       "      <td>44.0</td>\n",
       "      <td>4</td>\n",
       "      <td>97.0</td>\n",
       "      <td>52.0</td>\n",
       "      <td>2130</td>\n",
       "      <td>24.6</td>\n",
       "      <td>82</td>\n",
       "      <td>\\t\"vw pickup\"</td>\n",
       "    </tr>\n",
       "    <tr>\n",
       "      <th>395</th>\n",
       "      <td>32.0</td>\n",
       "      <td>4</td>\n",
       "      <td>135.0</td>\n",
       "      <td>84.0</td>\n",
       "      <td>2295</td>\n",
       "      <td>11.6</td>\n",
       "      <td>82</td>\n",
       "      <td>\\t\"dodge rampage\"</td>\n",
       "    </tr>\n",
       "    <tr>\n",
       "      <th>396</th>\n",
       "      <td>28.0</td>\n",
       "      <td>4</td>\n",
       "      <td>120.0</td>\n",
       "      <td>79.0</td>\n",
       "      <td>2625</td>\n",
       "      <td>18.6</td>\n",
       "      <td>82</td>\n",
       "      <td>\\t\"ford ranger\"</td>\n",
       "    </tr>\n",
       "    <tr>\n",
       "      <th>397</th>\n",
       "      <td>31.0</td>\n",
       "      <td>4</td>\n",
       "      <td>119.0</td>\n",
       "      <td>82.0</td>\n",
       "      <td>2720</td>\n",
       "      <td>19.4</td>\n",
       "      <td>82</td>\n",
       "      <td>\\t\"chevy s-10\"</td>\n",
       "    </tr>\n",
       "  </tbody>\n",
       "</table>\n",
       "<p>398 rows × 8 columns</p>\n",
       "</div>"
      ],
      "text/plain": [
       "      mpg  cylinders  displacement  horse_power  weight  acceleration  \\\n",
       "0    18.0          8         307.0        130.0    3504          12.0   \n",
       "1    15.0          8         350.0        165.0    3693          11.5   \n",
       "2    18.0          8         318.0        150.0    3436          11.0   \n",
       "3    16.0          8         304.0        150.0    3433          12.0   \n",
       "4    17.0          8         302.0        140.0    3449          10.5   \n",
       "..    ...        ...           ...          ...     ...           ...   \n",
       "393  27.0          4         140.0         86.0    2790          15.6   \n",
       "394  44.0          4          97.0         52.0    2130          24.6   \n",
       "395  32.0          4         135.0         84.0    2295          11.6   \n",
       "396  28.0          4         120.0         79.0    2625          18.6   \n",
       "397  31.0          4         119.0         82.0    2720          19.4   \n",
       "\n",
       "     model_year                       car_name  \n",
       "0            70  \\t\"chevrolet chevelle malibu\"  \n",
       "1            70          \\t\"buick skylark 320\"  \n",
       "2            70         \\t\"plymouth satellite\"  \n",
       "3            70              \\t\"amc rebel sst\"  \n",
       "4            70                \\t\"ford torino\"  \n",
       "..          ...                            ...  \n",
       "393          82            \\t\"ford mustang gl\"  \n",
       "394          82                  \\t\"vw pickup\"  \n",
       "395          82              \\t\"dodge rampage\"  \n",
       "396          82                \\t\"ford ranger\"  \n",
       "397          82                 \\t\"chevy s-10\"  \n",
       "\n",
       "[398 rows x 8 columns]"
      ]
     },
     "execution_count": 450,
     "metadata": {},
     "output_type": "execute_result"
    }
   ],
   "source": [
    "print(auto.columns)\n",
    "print(auto.info())\n",
    "print(auto.shape)  # Check the shape of the DataFrame\n",
    "auto"
   ]
  },
  {
   "cell_type": "code",
   "execution_count": 452,
   "metadata": {},
   "outputs": [],
   "source": [
    "# Drop the car_name column\n",
    "auto = auto.drop(columns=['car_name'])"
   ]
  },
  {
   "cell_type": "code",
   "execution_count": 454,
   "metadata": {},
   "outputs": [
    {
     "name": "stdout",
     "output_type": "stream",
     "text": [
      "X shape: (398, 6)\n",
      "y shape: (398,)\n"
     ]
    }
   ],
   "source": [
    "# Check remaining columns\n",
    "X = auto.drop(columns=['mpg']) \n",
    "\n",
    "y = auto['mpg']\n",
    "print(\"X shape:\", X.shape)\n",
    "print(\"y shape:\", y.shape)"
   ]
  },
  {
   "cell_type": "code",
   "execution_count": 456,
   "metadata": {},
   "outputs": [],
   "source": [
    "X_cleaned = X.dropna()\n",
    "y_cleaned = y[X_cleaned.index]  # Align y with the cleaned X"
   ]
  },
  {
   "cell_type": "code",
   "execution_count": 458,
   "metadata": {},
   "outputs": [
    {
     "name": "stdout",
     "output_type": "stream",
     "text": [
      "Train and test sizes of X: (313, 6) (79, 6)\n",
      "Train and test sizes of y: (313,) (79,)\n"
     ]
    }
   ],
   "source": [
    "X_train, X_test, y_train, y_test = train_test_split(X_cleaned, y_cleaned, test_size=0.2)\n",
    "\n",
    "\n",
    "print('Train and test sizes of X: {} {}'.format(X_train.shape, X_test.shape))\n",
    "print('Train and test sizes of y: {} {}'.format(y_train.shape, y_test.shape))"
   ]
  },
  {
   "cell_type": "markdown",
   "metadata": {},
   "source": [
    "Ahora vamos a procesar el conjunto de datos y realizar una regresión lineal sobre estos datos para predecir el mpg para cada vehículo. Inicializa el modelo en la celda de abajo."
   ]
  },
  {
   "cell_type": "code",
   "execution_count": 461,
   "metadata": {},
   "outputs": [],
   "source": [
    "auto_model = LinearRegression() # Create the Linear Regression estimator"
   ]
  },
  {
   "cell_type": "markdown",
   "metadata": {},
   "source": [
    "A continuación, ajusta el modelo en la celda inferior."
   ]
  },
  {
   "cell_type": "code",
   "execution_count": 464,
   "metadata": {},
   "outputs": [
    {
     "name": "stdout",
     "output_type": "stream",
     "text": [
      "2    0.005088\n",
      "3    0.006692\n",
      "1    0.007905\n",
      "4    0.091242\n",
      "0    0.437609\n",
      "5    0.779324\n",
      "dtype: float64\n"
     ]
    },
    {
     "data": {
      "text/plain": [
       "<Axes: title={'center': 'Model Coefficients'}>"
      ]
     },
     "execution_count": 464,
     "metadata": {},
     "output_type": "execute_result"
    },
    {
     "data": {
      "image/png": "[encoded data removed]",
      "text/plain": [
       "<Figure size 640x480 with 1 Axes>"
      ]
     },
     "metadata": {},
     "output_type": "display_data"
    }
   ],
   "source": [
    "auto_model.fit(X_train, y_train) # Perform the fitting\n",
    "\n",
    "# Regrerssion coefs\n",
    "coefs_auto_model = pd.Series(np.abs(auto_model.coef_)).sort_values()\n",
    "print(coefs_auto_model)\n",
    "coefs_auto_model.plot(kind='bar', title='Model Coefficients')"
   ]
  },
  {
   "cell_type": "markdown",
   "metadata": {},
   "source": [
    "# Reto 4 - Evaluar el modelo\n",
    "\n",
    "La puntuación r al cuadrado de un modelo nos indica cuánta variación explica el modelo. En un conjunto de datos típico, la mayoría de las observaciones difieren de la media. Cuando creamos un modelo, intentamos generar una ecuación que nos diga en qué medida cada observación difiere de la media. Obviamente, la gran mayoría de los modelos no son perfectos. Sólo pueden predecir una parte de la variación con respecto a la media, pero no toda. Atribuimos el resto de la diferencia entre el valor real y la media al error aleatorio. Nos gustaría que el error aleatorio explicara la menor parte posible de la variación. Por eso la puntuación r al cuadrado es una métrica importante.\n",
    "\n",
    "En la siguiente celda, calcula la puntuación r al cuadrado del modelo. Para ello, primero calcula los valores predichos y asígnalos a `y_pred`."
   ]
  },
  {
   "cell_type": "code",
   "execution_count": 467,
   "metadata": {},
   "outputs": [
    {
     "name": "stdout",
     "output_type": "stream",
     "text": [
      "0.8282439524318993\n"
     ]
    }
   ],
   "source": [
    "y_pred = auto_model.predict(X_train)\n",
    "print(auto_model.score(X_train, y_train))"
   ]
  },
  {
   "cell_type": "markdown",
   "metadata": {},
   "source": [
    "#### Nuestro siguiente paso es evaluar el modelo utilizando los datos de prueba. Queremos asegurarnos de que nuestro modelo no se ajusta en exceso a los datos. Esto significa que nuestro modelo no será capaz de generalizar bien fuera de los datos de entrenamiento.\n",
    "\n",
    "En la celda siguiente, utiliza el modelo para generar los valores predichos para los datos de entrenamiento y asígnalos a `y_test_pred`. Calcula la puntuación r al cuadrado para los datos de prueba comparando los datos observados de `y_train` y los predichos de `y_test_pred`."
   ]
  },
  {
   "cell_type": "code",
   "execution_count": 470,
   "metadata": {},
   "outputs": [
    {
     "name": "stdout",
     "output_type": "stream",
     "text": [
      "\n",
      "Intercept and coefs:\n",
      "-16.897261414831007 [-0.43760929  0.00790519  0.00508768 -0.00669218  0.09124151  0.77932401]\n",
      "\n",
      "MSE: 16.982377092851312\n",
      "R^2 Score train: 0.8070018396230418\n",
      "R^2 Score test: 0.729998774562715\n"
     ]
    }
   ],
   "source": [
    "# Now make predictions\n",
    "y_test_pred = auto_model.predict(X_test)\n",
    "\n",
    "# Evaluate model\n",
    "mse = mean_squared_error(y_test, y_test_pred)\n",
    "r2score_test = auto_model.score(X_test, y_test)\n",
    "\n",
    "# The coefficients\n",
    "print('\\nIntercept and coefs:\\n{} {}'.format(auto_model.intercept_, auto_model.coef_))\n",
    "# The mean squared error\n",
    "print('\\nMSE: {}'.format(mse))\n",
    "# The coefficient of determination: 1 is perfect prediction\n",
    "print('R^2 Score train: {}'.format(r2score_train))\n",
    "print('R^2 Score test: {}'.format(r2score_test))\n"
   ]
  },
  {
   "cell_type": "markdown",
   "metadata": {},
   "source": [
    "# Reto 5 - Mejorar el ajuste del modelo\n",
    "\n",
    "Aunque la forma más común de mejorar el ajuste de un modelo es utilizando la regularización, hay otras formas más sencillas de mejorar el ajuste del modelo. La primera es crear un modelo más simple. La segunda es aumentar el tamaño de la muestra de entrenamiento.\n",
    "\n",
    "Empecemos con la opción más sencilla y aumentemos el tamaño de la muestra de entrenamiento al 90% de los datos. Cre una nueva división train-test y denomina a los nuevos predictores y variables de respuesta `X_entrenamiento09`, `X_prueba09`, `y_entrenamiento09`, `y_prueba09`."
   ]
  },
  {
   "cell_type": "code",
   "execution_count": 473,
   "metadata": {},
   "outputs": [
    {
     "name": "stdout",
     "output_type": "stream",
     "text": [
      "Train and test sizes of X: (313, 6) (79, 6)\n",
      "Train and test sizes of y: (313,) (79,)\n"
     ]
    }
   ],
   "source": [
    "X_train_09, X_test_09, y_train_09, y_test_09 = train_test_split(X_cleaned, y_cleaned, test_size=0.2)\n",
    "\n",
    "print('Train and test sizes of X: {} {}'.format(X_train_09.shape, X_test_09.shape))\n",
    "print('Train and test sizes of y: {} {}'.format(y_train_09.shape, y_test_09.shape))\n"
   ]
  },
  {
   "cell_type": "markdown",
   "metadata": {},
   "source": [
    "Inicializa un nuevo modelo. Nombre este modelo `auto_model09`. Ajusta el modelo a los nuevos datos de muestra."
   ]
  },
  {
   "cell_type": "code",
   "execution_count": 476,
   "metadata": {},
   "outputs": [],
   "source": [
    "auto_model_09 = LinearRegression() # Create the Linear Regression estimator"
   ]
  },
  {
   "cell_type": "markdown",
   "metadata": {},
   "source": [
    "Calcula los valores predichos y la puntuación r al cuadrado para nuestro nuevo modelo y los nuevos datos de muestra."
   ]
  },
  {
   "cell_type": "code",
   "execution_count": 479,
   "metadata": {},
   "outputs": [
    {
     "name": "stdout",
     "output_type": "stream",
     "text": [
      "2    0.000117\n",
      "1    0.000501\n",
      "3    0.006104\n",
      "4    0.021352\n",
      "0    0.342789\n",
      "5    0.724448\n",
      "dtype: float64\n",
      "\n",
      "Intercept and coefs:\n",
      "-11.172761279160671 [-3.42788663e-01 -5.01288828e-04 -1.17460354e-04 -6.10410207e-03\n",
      " -2.13515309e-02  7.24448413e-01]\n",
      "\n",
      "MSE: 11.336056161847285\n",
      "R^2 Score train: 0.8071560836738676\n"
     ]
    },
    {
     "data": {
      "image/png": "[encoded data removed]",
      "text/plain": [
       "<Figure size 640x480 with 1 Axes>"
      ]
     },
     "metadata": {},
     "output_type": "display_data"
    }
   ],
   "source": [
    "# Your code here:\n",
    "auto_model_09.fit(X_train_09, y_train_09) # Perform the fitting\n",
    "\n",
    "# Regrerssion coefs\n",
    "coefs_auto_model_09 = pd.Series(np.abs(auto_model_09.coef_)).sort_values()\n",
    "print(coefs_auto_model_09)\n",
    "coefs_auto_model_09.plot(kind='bar', title='Model Coefficients')\n",
    "\n",
    "\n",
    "# Now make predictions\n",
    "y_test_pred_09 = auto_model_09.predict(X_test_09)\n",
    "\n",
    "# Evaluate model\n",
    "mse_09 = mean_squared_error(y_test_09, y_test_pred_09)  # The mean squared error\n",
    "r2score_train_09 = auto_model_09.score(X_train_09, y_train_09)\n",
    "\n",
    "# The coefficients\n",
    "print('\\nIntercept and coefs:\\n{} {}'.format(auto_model_09.intercept_, auto_model_09.coef_))\n",
    "print('\\nMSE: {}'.format(mse_09))\n",
    "print('R^2 Score train: {}'.format(r2score_train_09))"
   ]
  },
  {
   "cell_type": "markdown",
   "metadata": {},
   "source": [
    "Calcula la puntuación r al cuadrado para el conjunto de prueba más pequeño. ¿Existe una mejora en la r al cuadrado de la prueba?"
   ]
  },
  {
   "cell_type": "code",
   "execution_count": 482,
   "metadata": {},
   "outputs": [
    {
     "name": "stdout",
     "output_type": "stream",
     "text": [
      "R^2 90%Score test: 0.808960861551299\n",
      "R^2 10% Score train: 0.8071560836738676\n",
      "R^2 80% Score train: 0.8070018396230418\n",
      "R^2 20% Score test: 0.729998774562715\n"
     ]
    }
   ],
   "source": [
    "r2score_test_09 = auto_model_09.score(X_test_09, y_test_09)\n",
    "\n",
    "# The coefficient of determination: 1 is perfect prediction\n",
    "print('R^2 90%Score test: {}'.format(r2score_test_09))\n",
    "print('R^2 10% Score train: {}'.format(r2score_train_09))\n",
    "\n",
    "print('R^2 80% Score train: {}'.format(r2score_train))\n",
    "print('R^2 20% Score test: {}'.format(r2score_test))"
   ]
  },
  {
   "cell_type": "markdown",
   "metadata": {},
   "source": [
    "# Reto bonus 2 - Backward Elimination \n",
    "\n",
    "\n",
    "La principal forma de producir un modelo de regresión lineal más simple es reducir el número de variables utilizadas en el modelo. En scikit-learn, podemos hacer esto mediante el uso de la eliminación recursiva de características. Puedes leer más sobre RFE [aquí](https://scikit-learn.org/stable/modules/generated/sklearn.feature_selection.RFE.html).\n",
    "\n",
    "En la siguiente celda, vamos a importar RFE"
   ]
  },
  {
   "cell_type": "code",
   "execution_count": 485,
   "metadata": {},
   "outputs": [],
   "source": [
    "from sklearn.linear_model import LinearRegression\n",
    "from sklearn.pipeline import Pipeline\n",
    "from sklearn.feature_selection import RFE\n",
    "from sklearn.preprocessing import MinMaxScaler\n",
    "from sklearn.metrics import mean_squared_error"
   ]
  },
  {
   "cell_type": "markdown",
   "metadata": {},
   "source": [
    "Sigue la documentación e inicializa un modelo RFE utilizando el modelo de regresión lineal `auto_model`. Establece `n_features_to_select=3`."
   ]
  },
  {
   "cell_type": "code",
   "execution_count": 488,
   "metadata": {},
   "outputs": [],
   "source": [
    "# Create a pipeline with scaling and RFE\n",
    "pipe = Pipeline(\n",
    "    [\n",
    "        (\"scaler\", MinMaxScaler()),  # Scale features to a range\n",
    "        (\"rfe\", RFE(estimator=LinearRegression(), n_features_to_select=3, step=1)),  # RFE\n",
    "        (\"model\", LinearRegression())  # The model for predictions\n",
    "    ]\n",
    ")"
   ]
  },
  {
   "cell_type": "markdown",
   "metadata": {},
   "source": [
    "Ajusta el modelo e imprime la clasificación"
   ]
  },
  {
   "cell_type": "code",
   "execution_count": 491,
   "metadata": {},
   "outputs": [
    {
     "name": "stdout",
     "output_type": "stream",
     "text": [
      "\n",
      "Mean Squared Error (MSE): 16.94793164590813\n",
      "R^2 Score test: 0.7305464195027929\n",
      "Feature Ranking: [2 1 4 1 3 1]\n",
      "Selected Features: Index(['displacement', 'weight', 'model_year'], dtype='object')\n",
      "\n",
      "Reduced Dataset (auto_reduced):\n",
      "   displacement  weight  model_year   mpg\n",
      "0         307.0    3504          70  18.0\n",
      "1         350.0    3693          70  15.0\n",
      "2         318.0    3436          70  18.0\n",
      "3         304.0    3433          70  16.0\n",
      "4         302.0    3449          70  17.0\n"
     ]
    }
   ],
   "source": [
    "# Fit the pipeline on the training data\n",
    "pipe.fit(X_train, y_train)\n",
    "\n",
    "# Make predictions\n",
    "y_test_pred = pipe.predict(X_test)\n",
    "\n",
    "# Evaluate model\n",
    "mse = mean_squared_error(y_test, y_test_pred)\n",
    "r2score_test = pipe.score(X_test, y_test)\n",
    "\n",
    "# Retrieve the ranking of features from RFE\n",
    "ranking = pipe.named_steps[\"rfe\"].ranking_\n",
    "\n",
    "# Output the evaluation results\n",
    "print('\\nMean Squared Error (MSE): {}'.format(mse))\n",
    "print('R^2 Score test: {}'.format(r2score_test))\n",
    "print('Feature Ranking: {}'.format(ranking))\n",
    "\n",
    "# Get the selected feature names\n",
    "selected_features = X.columns[pipe.named_steps[\"rfe\"].support_]\n",
    "print('Selected Features:', selected_features)\n",
    "\n",
    "# Create a new DataFrame with the selected features\n",
    "auto_reduced = X[selected_features].copy()  # or X.loc[:, selected_features] for better indexing\n",
    "auto_reduced = pd.concat([auto_reduced, y], axis=1)  # This adds the target variable to the dataset\n",
    "\n",
    "# Output the new reduced dataset\n",
    "print('\\nReduced Dataset (auto_reduced):')\n",
    "print(auto_reduced.head())"
   ]
  },
  {
   "cell_type": "markdown",
   "metadata": {},
   "source": [
    "La importancia de las características se clasifica de la más importante (1) a la menos importante (4). Genera un modelo con las tres características más importantes. Las características corresponden a los nombres de las variables. Por ejemplo, la característica 1 es «cilindros» y la característica 2 es «desplazamiento».\n",
    "\n",
    "Realiza una división train-test en esta columna de datos reducida y llama a los datos divididos `X_train_reduced`, `X_test_reduced`, `y_test_reduced`, `y_train_reduced`. Utiliza una división del 80%."
   ]
  },
  {
   "cell_type": "code",
   "execution_count": 494,
   "metadata": {},
   "outputs": [],
   "source": [
    "\n",
    "# Assuming auto_reduced is your DataFrame\n",
    "# Drop missing values from the features\n",
    "X = auto_reduced.drop(columns=['mpg']).dropna()\n",
    "\n",
    "# Align y with the cleaned X\n",
    "y = auto_reduced['mpg'].loc[X.index]\n",
    "\n",
    "# Split the data into training and testing sets\n",
    "X_train, X_test, y_train, y_test = train_test_split(X, y, test_size=0.2, random_state=42)\n"
   ]
  },
  {
   "cell_type": "markdown",
   "metadata": {},
   "source": [
    "Genera un nuevo modelo llamado `auto_model_reduced` y ajusta este modelo. A continuación, calcula la puntuación r al cuadrado del modelo. ¿Ha mejorado la puntuación r al cuadrado?"
   ]
  },
  {
   "cell_type": "code",
   "execution_count": 497,
   "metadata": {},
   "outputs": [
    {
     "name": "stdout",
     "output_type": "stream",
     "text": [
      "R^2 Score for reduced model: 0.8244724172669363\n"
     ]
    }
   ],
   "source": [
    "\n",
    "# Create a new model for the reduced dataset\n",
    "auto_model_reduced = LinearRegression()\n",
    "\n",
    "# Fit the new model on the reduced training data\n",
    "auto_model_reduced.fit(X_train, y_train)\n",
    "\n",
    "# Make predictions using the reduced model\n",
    "y_test_pred_reduced = auto_model_reduced.predict(X_test)\n",
    "\n",
    "# Calculate R^2 score for the reduced model\n",
    "r2score_test_reduced = r2_score(y_test, y_test_pred_reduced)\n",
    "\n",
    "# Output the evaluation results\n",
    "print('R^2 Score for reduced model: {}'.format(r2score_test_reduced)) # No ha mejorado!"
   ]
  }
 ],
 "metadata": {
  "kernelspec": {
   "display_name": "Python 3 (ipykernel)",
   "language": "python",
   "name": "python3"
  },
  "language_info": {
   "codemirror_mode": {
    "name": "ipython",
    "version": 3
   },
   "file_extension": ".py",
   "mimetype": "text/x-python",
   "name": "python",
   "nbconvert_exporter": "python",
   "pygments_lexer": "ipython3",
   "version": "3.12.3"
  }
 },
 "nbformat": 4,
 "nbformat_minor": 4
}
